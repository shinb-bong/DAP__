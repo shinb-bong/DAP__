{
  "nbformat": 4,
  "nbformat_minor": 0,
  "metadata": {
    "colab": {
      "name": "2021DAP_Proj.ipynb",
      "provenance": [],
      "collapsed_sections": [],
      "mount_file_id": "172LBF3MYXpn-UM5aEUs0vW8UKMt7sItv",
      "authorship_tag": "ABX9TyPRC5J+sfVR/WIJ7OsYCiqc",
      "include_colab_link": true
    },
    "kernelspec": {
      "display_name": "Python 3",
      "name": "python3"
    },
    "language_info": {
      "name": "python"
    }
  },
  "cells": [
    {
      "cell_type": "markdown",
      "metadata": {
        "id": "view-in-github",
        "colab_type": "text"
      },
      "source": [
        "<a href=\"https://colab.research.google.com/github/shinb-bong/DAP__/blob/main/2021DAP_Proj.ipynb\" target=\"_parent\"><img src=\"https://colab.research.google.com/assets/colab-badge.svg\" alt=\"Open In Colab\"/></a>"
      ]
    },
    {
      "cell_type": "code",
      "metadata": {
        "colab": {
          "base_uri": "https://localhost:8080/"
        },
        "id": "-MHm_hSFtFjJ",
        "outputId": "f8a9c5ba-be68-4bea-cdba-1d4426bfab7b"
      },
      "source": [
        "from google.colab import drive\n",
        "drive.mount('/content/drive')"
      ],
      "execution_count": 3,
      "outputs": [
        {
          "output_type": "stream",
          "name": "stdout",
          "text": [
            "Drive already mounted at /content/drive; to attempt to forcibly remount, call drive.mount(\"/content/drive\", force_remount=True).\n"
          ]
        }
      ]
    },
    {
      "cell_type": "code",
      "metadata": {
        "id": "SfeQzbiuc3CK"
      },
      "source": [
        "import pandas as pd \n",
        "import matplotlib.pyplot as plt\n",
        "from datetime import datetime \n",
        "import matplotlib.ticker as ticker\n",
        "import numpy as np"
      ],
      "execution_count": 55,
      "outputs": []
    },
    {
      "cell_type": "code",
      "metadata": {
        "colab": {
          "base_uri": "https://localhost:8080/"
        },
        "id": "jptnIIJZdnDx",
        "outputId": "56365b45-465b-458b-adb7-52f180258465"
      },
      "source": [
        "# 자료 데이터 불러오기 \n",
        "df = pd.read_csv('/content/drive/MyDrive/DAP__/Measurement.csv')\n",
        "print(df.head())"
      ],
      "execution_count": 82,
      "outputs": [
        {
          "output_type": "stream",
          "name": "stdout",
          "text": [
            "   Measurement date  Station code  ...  PM10  PM2.5\n",
            "0  2017-01-01 00:00           101  ...  73.0   57.0\n",
            "1  2017-01-01 01:00           101  ...  71.0   59.0\n",
            "2  2017-01-01 02:00           101  ...  70.0   59.0\n",
            "3  2017-01-01 03:00           101  ...  70.0   58.0\n",
            "4  2017-01-01 04:00           101  ...  69.0   61.0\n",
            "\n",
            "[5 rows x 11 columns]\n"
          ]
        }
      ]
    },
    {
      "cell_type": "code",
      "metadata": {
        "colab": {
          "base_uri": "https://localhost:8080/"
        },
        "id": "P69qUERnfNpY",
        "outputId": "657916d6-6308-4267-add6-ac061ddfc311"
      },
      "source": [
        "print(df.info())"
      ],
      "execution_count": 83,
      "outputs": [
        {
          "output_type": "stream",
          "name": "stdout",
          "text": [
            "<class 'pandas.core.frame.DataFrame'>\n",
            "RangeIndex: 647511 entries, 0 to 647510\n",
            "Data columns (total 11 columns):\n",
            " #   Column            Non-Null Count   Dtype  \n",
            "---  ------            --------------   -----  \n",
            " 0   Measurement date  647511 non-null  object \n",
            " 1   Station code      647511 non-null  int64  \n",
            " 2   Address           647511 non-null  object \n",
            " 3   Latitude          647511 non-null  float64\n",
            " 4   Longitude         647511 non-null  float64\n",
            " 5   SO2               647511 non-null  float64\n",
            " 6   NO2               647511 non-null  float64\n",
            " 7   O3                647511 non-null  float64\n",
            " 8   CO                647511 non-null  float64\n",
            " 9   PM10              647511 non-null  float64\n",
            " 10  PM2.5             647511 non-null  float64\n",
            "dtypes: float64(8), int64(1), object(2)\n",
            "memory usage: 54.3+ MB\n",
            "None\n"
          ]
        }
      ]
    },
    {
      "cell_type": "markdown",
      "metadata": {
        "id": "TvxxPXGytg0D"
      },
      "source": [
        "1시간에 한번씩 측정 되었므로 하루씩의 데이터로 변형해준다.\n",
        "기준 0:00시 기준"
      ]
    },
    {
      "cell_type": "code",
      "metadata": {
        "colab": {
          "base_uri": "https://localhost:8080/",
          "height": 206
        },
        "id": "g4ZTD9T02_Bh",
        "outputId": "aabdc2c2-d347-4bf5-ad73-8c2508e331d2"
      },
      "source": [
        "Mdf=df[['Measurement date','PM10','PM2.5']]\n",
        "Mdf=Mdf[::24]\n",
        "Mdf.head()"
      ],
      "execution_count": 84,
      "outputs": [
        {
          "output_type": "execute_result",
          "data": {
            "text/html": [
              "<div>\n",
              "<style scoped>\n",
              "    .dataframe tbody tr th:only-of-type {\n",
              "        vertical-align: middle;\n",
              "    }\n",
              "\n",
              "    .dataframe tbody tr th {\n",
              "        vertical-align: top;\n",
              "    }\n",
              "\n",
              "    .dataframe thead th {\n",
              "        text-align: right;\n",
              "    }\n",
              "</style>\n",
              "<table border=\"1\" class=\"dataframe\">\n",
              "  <thead>\n",
              "    <tr style=\"text-align: right;\">\n",
              "      <th></th>\n",
              "      <th>Measurement date</th>\n",
              "      <th>PM10</th>\n",
              "      <th>PM2.5</th>\n",
              "    </tr>\n",
              "  </thead>\n",
              "  <tbody>\n",
              "    <tr>\n",
              "      <th>0</th>\n",
              "      <td>2017-01-01 00:00</td>\n",
              "      <td>73.0</td>\n",
              "      <td>57.0</td>\n",
              "    </tr>\n",
              "    <tr>\n",
              "      <th>24</th>\n",
              "      <td>2017-01-02 00:00</td>\n",
              "      <td>93.0</td>\n",
              "      <td>72.0</td>\n",
              "    </tr>\n",
              "    <tr>\n",
              "      <th>48</th>\n",
              "      <td>2017-01-03 00:00</td>\n",
              "      <td>148.0</td>\n",
              "      <td>113.0</td>\n",
              "    </tr>\n",
              "    <tr>\n",
              "      <th>72</th>\n",
              "      <td>2017-01-04 00:00</td>\n",
              "      <td>36.0</td>\n",
              "      <td>24.0</td>\n",
              "    </tr>\n",
              "    <tr>\n",
              "      <th>96</th>\n",
              "      <td>2017-01-05 00:00</td>\n",
              "      <td>49.0</td>\n",
              "      <td>32.0</td>\n",
              "    </tr>\n",
              "  </tbody>\n",
              "</table>\n",
              "</div>"
            ],
            "text/plain": [
              "    Measurement date   PM10  PM2.5\n",
              "0   2017-01-01 00:00   73.0   57.0\n",
              "24  2017-01-02 00:00   93.0   72.0\n",
              "48  2017-01-03 00:00  148.0  113.0\n",
              "72  2017-01-04 00:00   36.0   24.0\n",
              "96  2017-01-05 00:00   49.0   32.0"
            ]
          },
          "metadata": {},
          "execution_count": 84
        }
      ]
    },
    {
      "cell_type": "markdown",
      "metadata": {
        "id": "YVr-frmTupoL"
      },
      "source": [
        "각 PM10,PM2.5 수치에 대한 전체 평균치"
      ]
    },
    {
      "cell_type": "code",
      "metadata": {
        "colab": {
          "base_uri": "https://localhost:8080/"
        },
        "id": "d1MyesbntgFy",
        "outputId": "473d1540-bf15-4f95-8ff5-e20c7698b6fa"
      },
      "source": [
        "print(Mdf['PM10'].mean())\n",
        "print(Mdf['PM2.5'].mean())\n",
        "print(Mdf['PM10'].max())"
      ],
      "execution_count": 85,
      "outputs": [
        {
          "output_type": "stream",
          "name": "stdout",
          "text": [
            "43.513120830244624\n",
            "24.637064492216457\n",
            "3457.0\n"
          ]
        }
      ]
    },
    {
      "cell_type": "markdown",
      "metadata": {
        "id": "8NJhMh2l59Mq"
      },
      "source": [
        "Datetime을 이용한 Date 설정"
      ]
    },
    {
      "cell_type": "code",
      "metadata": {
        "id": "MccABP9T9wyt"
      },
      "source": [
        "import statsmodels.api as sm\n",
        "Mdf.reset_index(inplace=True)"
      ],
      "execution_count": 86,
      "outputs": []
    },
    {
      "cell_type": "code",
      "metadata": {
        "colab": {
          "base_uri": "https://localhost:8080/",
          "height": 424
        },
        "id": "VrfvJ0Ka7u4w",
        "outputId": "3e192b19-4d71-4a6f-da64-fac8d5a27d40"
      },
      "source": [
        "Mdf['Date'] = pd.to_datetime(Mdf['Measurement date'])\n",
        "# Mdf = Mdf.set_index('Date')\n",
        "Mdf"
      ],
      "execution_count": 87,
      "outputs": [
        {
          "output_type": "execute_result",
          "data": {
            "text/html": [
              "<div>\n",
              "<style scoped>\n",
              "    .dataframe tbody tr th:only-of-type {\n",
              "        vertical-align: middle;\n",
              "    }\n",
              "\n",
              "    .dataframe tbody tr th {\n",
              "        vertical-align: top;\n",
              "    }\n",
              "\n",
              "    .dataframe thead th {\n",
              "        text-align: right;\n",
              "    }\n",
              "</style>\n",
              "<table border=\"1\" class=\"dataframe\">\n",
              "  <thead>\n",
              "    <tr style=\"text-align: right;\">\n",
              "      <th></th>\n",
              "      <th>index</th>\n",
              "      <th>Measurement date</th>\n",
              "      <th>PM10</th>\n",
              "      <th>PM2.5</th>\n",
              "      <th>Date</th>\n",
              "    </tr>\n",
              "  </thead>\n",
              "  <tbody>\n",
              "    <tr>\n",
              "      <th>0</th>\n",
              "      <td>0</td>\n",
              "      <td>2017-01-01 00:00</td>\n",
              "      <td>73.0</td>\n",
              "      <td>57.0</td>\n",
              "      <td>2017-01-01 00:00:00</td>\n",
              "    </tr>\n",
              "    <tr>\n",
              "      <th>1</th>\n",
              "      <td>24</td>\n",
              "      <td>2017-01-02 00:00</td>\n",
              "      <td>93.0</td>\n",
              "      <td>72.0</td>\n",
              "      <td>2017-01-02 00:00:00</td>\n",
              "    </tr>\n",
              "    <tr>\n",
              "      <th>2</th>\n",
              "      <td>48</td>\n",
              "      <td>2017-01-03 00:00</td>\n",
              "      <td>148.0</td>\n",
              "      <td>113.0</td>\n",
              "      <td>2017-01-03 00:00:00</td>\n",
              "    </tr>\n",
              "    <tr>\n",
              "      <th>3</th>\n",
              "      <td>72</td>\n",
              "      <td>2017-01-04 00:00</td>\n",
              "      <td>36.0</td>\n",
              "      <td>24.0</td>\n",
              "      <td>2017-01-04 00:00:00</td>\n",
              "    </tr>\n",
              "    <tr>\n",
              "      <th>4</th>\n",
              "      <td>96</td>\n",
              "      <td>2017-01-05 00:00</td>\n",
              "      <td>49.0</td>\n",
              "      <td>32.0</td>\n",
              "      <td>2017-01-05 00:00:00</td>\n",
              "    </tr>\n",
              "    <tr>\n",
              "      <th>...</th>\n",
              "      <td>...</td>\n",
              "      <td>...</td>\n",
              "      <td>...</td>\n",
              "      <td>...</td>\n",
              "      <td>...</td>\n",
              "    </tr>\n",
              "    <tr>\n",
              "      <th>26975</th>\n",
              "      <td>647400</td>\n",
              "      <td>2019-12-27 09:00</td>\n",
              "      <td>58.0</td>\n",
              "      <td>44.0</td>\n",
              "      <td>2019-12-27 09:00:00</td>\n",
              "    </tr>\n",
              "    <tr>\n",
              "      <th>26976</th>\n",
              "      <td>647424</td>\n",
              "      <td>2019-12-28 09:00</td>\n",
              "      <td>48.0</td>\n",
              "      <td>30.0</td>\n",
              "      <td>2019-12-28 09:00:00</td>\n",
              "    </tr>\n",
              "    <tr>\n",
              "      <th>26977</th>\n",
              "      <td>647448</td>\n",
              "      <td>2019-12-29 09:00</td>\n",
              "      <td>51.0</td>\n",
              "      <td>33.0</td>\n",
              "      <td>2019-12-29 09:00:00</td>\n",
              "    </tr>\n",
              "    <tr>\n",
              "      <th>26978</th>\n",
              "      <td>647472</td>\n",
              "      <td>2019-12-30 09:00</td>\n",
              "      <td>43.0</td>\n",
              "      <td>29.0</td>\n",
              "      <td>2019-12-30 09:00:00</td>\n",
              "    </tr>\n",
              "    <tr>\n",
              "      <th>26979</th>\n",
              "      <td>647496</td>\n",
              "      <td>2019-12-31 09:00</td>\n",
              "      <td>20.0</td>\n",
              "      <td>13.0</td>\n",
              "      <td>2019-12-31 09:00:00</td>\n",
              "    </tr>\n",
              "  </tbody>\n",
              "</table>\n",
              "<p>26980 rows × 5 columns</p>\n",
              "</div>"
            ],
            "text/plain": [
              "        index  Measurement date   PM10  PM2.5                Date\n",
              "0           0  2017-01-01 00:00   73.0   57.0 2017-01-01 00:00:00\n",
              "1          24  2017-01-02 00:00   93.0   72.0 2017-01-02 00:00:00\n",
              "2          48  2017-01-03 00:00  148.0  113.0 2017-01-03 00:00:00\n",
              "3          72  2017-01-04 00:00   36.0   24.0 2017-01-04 00:00:00\n",
              "4          96  2017-01-05 00:00   49.0   32.0 2017-01-05 00:00:00\n",
              "...       ...               ...    ...    ...                 ...\n",
              "26975  647400  2019-12-27 09:00   58.0   44.0 2019-12-27 09:00:00\n",
              "26976  647424  2019-12-28 09:00   48.0   30.0 2019-12-28 09:00:00\n",
              "26977  647448  2019-12-29 09:00   51.0   33.0 2019-12-29 09:00:00\n",
              "26978  647472  2019-12-30 09:00   43.0   29.0 2019-12-30 09:00:00\n",
              "26979  647496  2019-12-31 09:00   20.0   13.0 2019-12-31 09:00:00\n",
              "\n",
              "[26980 rows x 5 columns]"
            ]
          },
          "metadata": {},
          "execution_count": 87
        }
      ]
    },
    {
      "cell_type": "markdown",
      "metadata": {
        "id": "I13N5sodHhLM"
      },
      "source": [
        "Bar 차트"
      ]
    },
    {
      "cell_type": "code",
      "metadata": {
        "colab": {
          "base_uri": "https://localhost:8080/",
          "height": 299
        },
        "id": "nw97bPe-HMYa",
        "outputId": "53ec7413-19a5-4494-8464-f4be83920b69"
      },
      "source": [
        "xs=Mdf.Date.to_list()\n",
        "ys=Mdf['PM10'].to_list()\n",
        "plt.figure(figsize=(20, 6))\n",
        "plt.xlabel('Date')\n",
        "plt.ylabel('Volume')\n",
        "\n",
        "plt.bar(xs, ys, width=0.6, color='blue')\n"
      ],
      "execution_count": 99,
      "outputs": [
        {
          "output_type": "execute_result",
          "data": {
            "text/plain": [
              "<BarContainer object of 26980 artists>"
            ]
          },
          "metadata": {},
          "execution_count": 99
        },
        {
          "output_type": "display_data",
          "data": {
            "image/png": "[encoded data removed]",
            "text/plain": [
              "<Figure size 1440x432 with 1 Axes>"
            ]
          },
          "metadata": {
            "needs_background": "light"
          }
        }
      ]
    },
    {
      "cell_type": "markdown",
      "metadata": {
        "id": "UZWXWy4IIaLp"
      },
      "source": [
        "plot 차트"
      ]
    },
    {
      "cell_type": "code",
      "metadata": {
        "colab": {
          "base_uri": "https://localhost:8080/",
          "height": 177
        },
        "id": "sTkXVu7d_q8X",
        "outputId": "4f1f981d-33fb-412a-9fe2-acd79db38e77"
      },
      "source": [
        "def plot_df(x, y, title=\"\", xlabel='Date', ylabel='PM10', dpi=100):\n",
        "    plt.figure(figsize=(20,3), dpi=dpi)\n",
        "    plt.plot(x, y, color='tab:red')\n",
        "    plt.gca().set(title=title, xlabel=xlabel, ylabel=ylabel)\n",
        "    plt.show()\n",
        "\n",
        "plot_df(x=Mdf['Date'], y=Mdf['PM10'], \n",
        "        title='PM10')    "
      ],
      "execution_count": 64,
      "outputs": [
        {
          "output_type": "display_data",
          "data": {
            "image/png": "[encoded data removed]",
            "text/plain": [
              "<Figure size 2000x300 with 1 Axes>"
            ]
          },
          "metadata": {
            "needs_background": "light"
          }
        }
      ]
    },
    {
      "cell_type": "markdown",
      "metadata": {
        "id": "B3DngbNSBesn"
      },
      "source": [
        "너무 튀는 이상치를 줄여보자"
      ]
    },
    {
      "cell_type": "code",
      "metadata": {
        "colab": {
          "base_uri": "https://localhost:8080/",
          "height": 424
        },
        "id": "EHZbszzICRQC",
        "outputId": "7b48a7b1-54fd-4479-d271-7390368f8908"
      },
      "source": [
        "attribute = 'PM10'\n",
        "\n",
        "q1 = Mdf[attribute].quantile(.25)\n",
        "q3 = Mdf[attribute].quantile(.75)\n",
        "\n",
        "IQR = q3 -q1\n",
        "outliers_step = 1.5 *IQR\n",
        "filter_Mdf=Mdf[(Mdf[attribute]<q1-outliers_step)|\n",
        "    (Mdf[attribute]>q3+outliers_step)]\n",
        "\n",
        "filter_Mdf"
      ],
      "execution_count": 88,
      "outputs": [
        {
          "output_type": "execute_result",
          "data": {
            "text/html": [
              "<div>\n",
              "<style scoped>\n",
              "    .dataframe tbody tr th:only-of-type {\n",
              "        vertical-align: middle;\n",
              "    }\n",
              "\n",
              "    .dataframe tbody tr th {\n",
              "        vertical-align: top;\n",
              "    }\n",
              "\n",
              "    .dataframe thead th {\n",
              "        text-align: right;\n",
              "    }\n",
              "</style>\n",
              "<table border=\"1\" class=\"dataframe\">\n",
              "  <thead>\n",
              "    <tr style=\"text-align: right;\">\n",
              "      <th></th>\n",
              "      <th>index</th>\n",
              "      <th>Measurement date</th>\n",
              "      <th>PM10</th>\n",
              "      <th>PM2.5</th>\n",
              "      <th>Date</th>\n",
              "    </tr>\n",
              "  </thead>\n",
              "  <tbody>\n",
              "    <tr>\n",
              "      <th>2</th>\n",
              "      <td>48</td>\n",
              "      <td>2017-01-03 00:00</td>\n",
              "      <td>148.0</td>\n",
              "      <td>113.0</td>\n",
              "      <td>2017-01-03 00:00:00</td>\n",
              "    </tr>\n",
              "    <tr>\n",
              "      <th>18</th>\n",
              "      <td>432</td>\n",
              "      <td>2017-01-19 00:00</td>\n",
              "      <td>99.0</td>\n",
              "      <td>88.0</td>\n",
              "      <td>2017-01-19 00:00:00</td>\n",
              "    </tr>\n",
              "    <tr>\n",
              "      <th>35</th>\n",
              "      <td>840</td>\n",
              "      <td>2017-02-05 00:00</td>\n",
              "      <td>116.0</td>\n",
              "      <td>101.0</td>\n",
              "      <td>2017-02-05 00:00:00</td>\n",
              "    </tr>\n",
              "    <tr>\n",
              "      <th>79</th>\n",
              "      <td>1896</td>\n",
              "      <td>2017-03-21 00:00</td>\n",
              "      <td>146.0</td>\n",
              "      <td>122.0</td>\n",
              "      <td>2017-03-21 00:00:00</td>\n",
              "    </tr>\n",
              "    <tr>\n",
              "      <th>109</th>\n",
              "      <td>2616</td>\n",
              "      <td>2017-04-20 00:00</td>\n",
              "      <td>101.0</td>\n",
              "      <td>22.0</td>\n",
              "      <td>2017-04-20 00:00:00</td>\n",
              "    </tr>\n",
              "    <tr>\n",
              "      <th>...</th>\n",
              "      <td>...</td>\n",
              "      <td>...</td>\n",
              "      <td>...</td>\n",
              "      <td>...</td>\n",
              "      <td>...</td>\n",
              "    </tr>\n",
              "    <tr>\n",
              "      <th>26892</th>\n",
              "      <td>645408</td>\n",
              "      <td>2019-10-04 21:00</td>\n",
              "      <td>141.0</td>\n",
              "      <td>134.0</td>\n",
              "      <td>2019-10-04 21:00:00</td>\n",
              "    </tr>\n",
              "    <tr>\n",
              "      <th>26919</th>\n",
              "      <td>646056</td>\n",
              "      <td>2019-10-31 21:00</td>\n",
              "      <td>169.0</td>\n",
              "      <td>44.0</td>\n",
              "      <td>2019-10-31 21:00:00</td>\n",
              "    </tr>\n",
              "    <tr>\n",
              "      <th>26920</th>\n",
              "      <td>646080</td>\n",
              "      <td>2019-11-01 21:00</td>\n",
              "      <td>98.0</td>\n",
              "      <td>41.0</td>\n",
              "      <td>2019-11-01 21:00:00</td>\n",
              "    </tr>\n",
              "    <tr>\n",
              "      <th>26921</th>\n",
              "      <td>646104</td>\n",
              "      <td>2019-11-02 21:00</td>\n",
              "      <td>113.0</td>\n",
              "      <td>62.0</td>\n",
              "      <td>2019-11-02 21:00:00</td>\n",
              "    </tr>\n",
              "    <tr>\n",
              "      <th>26959</th>\n",
              "      <td>647016</td>\n",
              "      <td>2019-12-11 09:00</td>\n",
              "      <td>159.0</td>\n",
              "      <td>128.0</td>\n",
              "      <td>2019-12-11 09:00:00</td>\n",
              "    </tr>\n",
              "  </tbody>\n",
              "</table>\n",
              "<p>1301 rows × 5 columns</p>\n",
              "</div>"
            ],
            "text/plain": [
              "        index  Measurement date   PM10  PM2.5                Date\n",
              "2          48  2017-01-03 00:00  148.0  113.0 2017-01-03 00:00:00\n",
              "18        432  2017-01-19 00:00   99.0   88.0 2017-01-19 00:00:00\n",
              "35        840  2017-02-05 00:00  116.0  101.0 2017-02-05 00:00:00\n",
              "79       1896  2017-03-21 00:00  146.0  122.0 2017-03-21 00:00:00\n",
              "109      2616  2017-04-20 00:00  101.0   22.0 2017-04-20 00:00:00\n",
              "...       ...               ...    ...    ...                 ...\n",
              "26892  645408  2019-10-04 21:00  141.0  134.0 2019-10-04 21:00:00\n",
              "26919  646056  2019-10-31 21:00  169.0   44.0 2019-10-31 21:00:00\n",
              "26920  646080  2019-11-01 21:00   98.0   41.0 2019-11-01 21:00:00\n",
              "26921  646104  2019-11-02 21:00  113.0   62.0 2019-11-02 21:00:00\n",
              "26959  647016  2019-12-11 09:00  159.0  128.0 2019-12-11 09:00:00\n",
              "\n",
              "[1301 rows x 5 columns]"
            ]
          },
          "metadata": {},
          "execution_count": 88
        }
      ]
    },
    {
      "cell_type": "code",
      "metadata": {
        "colab": {
          "base_uri": "https://localhost:8080/",
          "height": 443
        },
        "id": "jQzFYydXC9ZG",
        "outputId": "4cf84db1-819b-49df-f26b-d768ef87b789"
      },
      "source": [
        "xs=filter_Mdf.Date.to_list()\n",
        "ys=filter_Mdf['PM10'].to_list()\n",
        "plt.figure(figsize=(10, 6))\n",
        "plt.xlabel('Date')\n",
        "plt.ylabel('Volume')\n",
        "\n",
        "plt.bar(xs, ys, width=0.6, color='blue')\n",
        "\n",
        "print(filter_Mdf['PM10'].max())\n",
        "print(filter_Mdf['PM10'].min())\n",
        "print(filter_Mdf['PM10'].mean())"
      ],
      "execution_count": 101,
      "outputs": [
        {
          "output_type": "stream",
          "name": "stdout",
          "text": [
            "3457.0\n",
            "188.67179093005382\n",
            "98.0\n"
          ]
        },
        {
          "output_type": "display_data",
          "data": {
            "image/png": "[encoded data removed]",
            "text/plain": [
              "<Figure size 720x432 with 1 Axes>"
            ]
          },
          "metadata": {
            "needs_background": "light"
          }
        }
      ]
    },
    {
      "cell_type": "markdown",
      "metadata": {
        "id": "NK1-ZyR4JFjB"
      },
      "source": [
        "미세먼지양에 영향을 미치는게 년도는 의미가 없고\n",
        " 미세먼지가 일어난 월과 일에 대한 시기가 중요한 것이므로 월과 일을 분리 시켜준다.\n",
        "\n",
        " 그후 데이터에 추가해준다."
      ]
    },
    {
      "cell_type": "code",
      "metadata": {
        "colab": {
          "base_uri": "https://localhost:8080/",
          "height": 424
        },
        "id": "n83dhTiBJEWJ",
        "outputId": "188974f0-40ff-4843-8e28-1fca12d4dd76"
      },
      "source": [
        "month_list = []\n",
        "day_list = []\n",
        "for i in filter_Mdf['Date'] :\n",
        "  month_list.append(i.strftime('%m'))\n",
        "  day_list.append(i.strftime('%d'))\n",
        "\n",
        "\n",
        "filter_Mdf= filter_Mdf.assign(month = month_list)\n",
        "filter_Mdf= filter_Mdf.assign(day = day_list)\n",
        "filter_Mdf"
      ],
      "execution_count": 96,
      "outputs": [
        {
          "output_type": "execute_result",
          "data": {
            "text/html": [
              "<div>\n",
              "<style scoped>\n",
              "    .dataframe tbody tr th:only-of-type {\n",
              "        vertical-align: middle;\n",
              "    }\n",
              "\n",
              "    .dataframe tbody tr th {\n",
              "        vertical-align: top;\n",
              "    }\n",
              "\n",
              "    .dataframe thead th {\n",
              "        text-align: right;\n",
              "    }\n",
              "</style>\n",
              "<table border=\"1\" class=\"dataframe\">\n",
              "  <thead>\n",
              "    <tr style=\"text-align: right;\">\n",
              "      <th></th>\n",
              "      <th>index</th>\n",
              "      <th>Measurement date</th>\n",
              "      <th>PM10</th>\n",
              "      <th>PM2.5</th>\n",
              "      <th>Date</th>\n",
              "      <th>month</th>\n",
              "      <th>day</th>\n",
              "    </tr>\n",
              "  </thead>\n",
              "  <tbody>\n",
              "    <tr>\n",
              "      <th>2</th>\n",
              "      <td>48</td>\n",
              "      <td>2017-01-03 00:00</td>\n",
              "      <td>148.0</td>\n",
              "      <td>113.0</td>\n",
              "      <td>2017-01-03 00:00:00</td>\n",
              "      <td>01</td>\n",
              "      <td>03</td>\n",
              "    </tr>\n",
              "    <tr>\n",
              "      <th>18</th>\n",
              "      <td>432</td>\n",
              "      <td>2017-01-19 00:00</td>\n",
              "      <td>99.0</td>\n",
              "      <td>88.0</td>\n",
              "      <td>2017-01-19 00:00:00</td>\n",
              "      <td>01</td>\n",
              "      <td>19</td>\n",
              "    </tr>\n",
              "    <tr>\n",
              "      <th>35</th>\n",
              "      <td>840</td>\n",
              "      <td>2017-02-05 00:00</td>\n",
              "      <td>116.0</td>\n",
              "      <td>101.0</td>\n",
              "      <td>2017-02-05 00:00:00</td>\n",
              "      <td>02</td>\n",
              "      <td>05</td>\n",
              "    </tr>\n",
              "    <tr>\n",
              "      <th>79</th>\n",
              "      <td>1896</td>\n",
              "      <td>2017-03-21 00:00</td>\n",
              "      <td>146.0</td>\n",
              "      <td>122.0</td>\n",
              "      <td>2017-03-21 00:00:00</td>\n",
              "      <td>03</td>\n",
              "      <td>21</td>\n",
              "    </tr>\n",
              "    <tr>\n",
              "      <th>109</th>\n",
              "      <td>2616</td>\n",
              "      <td>2017-04-20 00:00</td>\n",
              "      <td>101.0</td>\n",
              "      <td>22.0</td>\n",
              "      <td>2017-04-20 00:00:00</td>\n",
              "      <td>04</td>\n",
              "      <td>20</td>\n",
              "    </tr>\n",
              "    <tr>\n",
              "      <th>...</th>\n",
              "      <td>...</td>\n",
              "      <td>...</td>\n",
              "      <td>...</td>\n",
              "      <td>...</td>\n",
              "      <td>...</td>\n",
              "      <td>...</td>\n",
              "      <td>...</td>\n",
              "    </tr>\n",
              "    <tr>\n",
              "      <th>26892</th>\n",
              "      <td>645408</td>\n",
              "      <td>2019-10-04 21:00</td>\n",
              "      <td>141.0</td>\n",
              "      <td>134.0</td>\n",
              "      <td>2019-10-04 21:00:00</td>\n",
              "      <td>10</td>\n",
              "      <td>04</td>\n",
              "    </tr>\n",
              "    <tr>\n",
              "      <th>26919</th>\n",
              "      <td>646056</td>\n",
              "      <td>2019-10-31 21:00</td>\n",
              "      <td>169.0</td>\n",
              "      <td>44.0</td>\n",
              "      <td>2019-10-31 21:00:00</td>\n",
              "      <td>10</td>\n",
              "      <td>31</td>\n",
              "    </tr>\n",
              "    <tr>\n",
              "      <th>26920</th>\n",
              "      <td>646080</td>\n",
              "      <td>2019-11-01 21:00</td>\n",
              "      <td>98.0</td>\n",
              "      <td>41.0</td>\n",
              "      <td>2019-11-01 21:00:00</td>\n",
              "      <td>11</td>\n",
              "      <td>01</td>\n",
              "    </tr>\n",
              "    <tr>\n",
              "      <th>26921</th>\n",
              "      <td>646104</td>\n",
              "      <td>2019-11-02 21:00</td>\n",
              "      <td>113.0</td>\n",
              "      <td>62.0</td>\n",
              "      <td>2019-11-02 21:00:00</td>\n",
              "      <td>11</td>\n",
              "      <td>02</td>\n",
              "    </tr>\n",
              "    <tr>\n",
              "      <th>26959</th>\n",
              "      <td>647016</td>\n",
              "      <td>2019-12-11 09:00</td>\n",
              "      <td>159.0</td>\n",
              "      <td>128.0</td>\n",
              "      <td>2019-12-11 09:00:00</td>\n",
              "      <td>12</td>\n",
              "      <td>11</td>\n",
              "    </tr>\n",
              "  </tbody>\n",
              "</table>\n",
              "<p>1301 rows × 7 columns</p>\n",
              "</div>"
            ],
            "text/plain": [
              "        index  Measurement date   PM10  PM2.5                Date month day\n",
              "2          48  2017-01-03 00:00  148.0  113.0 2017-01-03 00:00:00    01  03\n",
              "18        432  2017-01-19 00:00   99.0   88.0 2017-01-19 00:00:00    01  19\n",
              "35        840  2017-02-05 00:00  116.0  101.0 2017-02-05 00:00:00    02  05\n",
              "79       1896  2017-03-21 00:00  146.0  122.0 2017-03-21 00:00:00    03  21\n",
              "109      2616  2017-04-20 00:00  101.0   22.0 2017-04-20 00:00:00    04  20\n",
              "...       ...               ...    ...    ...                 ...   ...  ..\n",
              "26892  645408  2019-10-04 21:00  141.0  134.0 2019-10-04 21:00:00    10  04\n",
              "26919  646056  2019-10-31 21:00  169.0   44.0 2019-10-31 21:00:00    10  31\n",
              "26920  646080  2019-11-01 21:00   98.0   41.0 2019-11-01 21:00:00    11  01\n",
              "26921  646104  2019-11-02 21:00  113.0   62.0 2019-11-02 21:00:00    11  02\n",
              "26959  647016  2019-12-11 09:00  159.0  128.0 2019-12-11 09:00:00    12  11\n",
              "\n",
              "[1301 rows x 7 columns]"
            ]
          },
          "metadata": {},
          "execution_count": 96
        }
      ]
    },
    {
      "cell_type": "markdown",
      "metadata": {
        "id": "8ban71LIJEOB"
      },
      "source": [
        "이제 해당 미세먼지가 일어난 월, 일에 대해서 수치와 함께 비교를 진행한다."
      ]
    },
    {
      "cell_type": "code",
      "metadata": {
        "id": "YvWaNCvJNpdd"
      },
      "source": [
        ""
      ],
      "execution_count": null,
      "outputs": []
    }
  ]
}